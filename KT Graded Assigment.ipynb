{
  "metadata": {
    "language_info": {
      "codemirror_mode": {
        "name": "python",
        "version": 3
      },
      "file_extension": ".py",
      "mimetype": "text/x-python",
      "name": "python",
      "nbconvert_exporter": "python",
      "pygments_lexer": "ipython3",
      "version": "3.8"
    },
    "kernelspec": {
      "name": "python",
      "display_name": "Pyolite",
      "language": "python"
    }
  },
  "nbformat_minor": 4,
  "nbformat": 4,
  "cells": [
    {
      "cell_type": "markdown",
      "source": "# \"My Jupyter Notebook onIBM Watson Studion\"",
      "metadata": {}
    },
    {
      "cell_type": "markdown",
      "source": "##### *Kelly Tchemi*\n##### my desire postion is to become a data scientist",
      "metadata": {}
    },
    {
      "cell_type": "markdown",
      "source": "##### *I am interested in Data Science because it will enable me to learn about technology and still use some of the scienctific knowledge I acquire over the years*",
      "metadata": {}
    },
    {
      "cell_type": "markdown",
      "source": "### My code in the next cell must be excecuted and display properly",
      "metadata": {}
    },
    {
      "cell_type": "code",
      "source": "one= 1\ntwo= 2\nthree= 3\nprint(3+2-1)",
      "metadata": {
        "trusted": true
      },
      "execution_count": 1,
      "outputs": [
        {
          "name": "stdout",
          "text": "4\n",
          "output_type": "stream"
        }
      ]
    },
    {
      "cell_type": "code",
      "source": "",
      "metadata": {},
      "execution_count": null,
      "outputs": []
    }
  ]
}